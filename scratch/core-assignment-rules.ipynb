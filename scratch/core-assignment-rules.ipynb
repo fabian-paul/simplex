{
 "cells": [
  {
   "cell_type": "code",
   "execution_count": null,
   "metadata": {
    "collapsed": false
   },
   "outputs": [],
   "source": [
    "import numpy as np\n",
    "import sys\n",
    "sys.path.append('..')\n",
    "import simplex\n",
    "import matplotlib.pyplot as plt\n",
    "import scipy as sp\n",
    "%matplotlib inline"
   ]
  },
  {
   "cell_type": "code",
   "execution_count": null,
   "metadata": {
    "collapsed": false
   },
   "outputs": [],
   "source": [
    "N = 100\n",
    "o = np.zeros((N,N)) + np.nan\n",
    "v = np.random.rand(3, 2)\n",
    "\n",
    "M = np.vstack((v.T, np.ones(v.shape[0]))) # see also inner_simplex.py\n",
    "lu_and_piv = sp.linalg.lu_factor(M)\n",
    "\n",
    "f = 0.5\n",
    "\n",
    "for i,x in enumerate(np.linspace(0, 1.0, N, endpoint=False)):\n",
    "    for j,y in enumerate(np.linspace(0, 1.0, N, endpoint=False)):\n",
    "        point = np.array([x,y])\n",
    "        l = sp.linalg.lu_solve(lu_and_piv, np.concatenate((point, [1])))\n",
    "        k, k2 = np.argsort(l)[::-1][0:2]\n",
    "        if l[k] > f: # default rule\n",
    "            o[i,j] = k\n",
    "\n",
    "plt.imshow(o.T[::-1], interpolation='nearest', extent=[0.0,1.0,0.0,1.0])\n",
    "idx = np.array([0,1,2,0], dtype=int)\n",
    "plt.plot(v[idx, 0], v[idx, 1])\n",
    "plt.colorbar()\n",
    "plt.title('PCCA rule')\n",
    "\n",
    "plt.figure()\n",
    "o = np.zeros((N,N)) + np.nan\n",
    "for i,x in enumerate(np.linspace(0, 1.0, N, endpoint=False)):\n",
    "    for j,y in enumerate(np.linspace(0, 1.0, N, endpoint=False)):\n",
    "        point = np.array([x,y])\n",
    "        l = sp.linalg.lu_solve(lu_and_piv, np.concatenate((point, [1])))\n",
    "        k, k2 = np.argsort(l)[::-1][0:2]\n",
    "        if l[k] > f and l[k2] < l[k]-.1: # rule #2 (does this work in higher dimensions?)\n",
    "            o[i,j] = k\n",
    "\n",
    "plt.imshow(o.T[::-1], interpolation='nearest', extent=[0.0,1.0,0.0,1.0])\n",
    "idx = np.array([0,1,2,0], dtype=int)\n",
    "plt.plot(v[idx, 0], v[idx, 1])\n",
    "plt.colorbar()\n",
    "plt.title('rule #2')"
   ]
  },
  {
   "cell_type": "code",
   "execution_count": null,
   "metadata": {
    "collapsed": true
   },
   "outputs": [],
   "source": []
  }
 ],
 "metadata": {
  "anaconda-cloud": {},
  "kernelspec": {
   "display_name": "Python [default]",
   "language": "python",
   "name": "python2"
  },
  "language_info": {
   "codemirror_mode": {
    "name": "ipython",
    "version": 2
   },
   "file_extension": ".py",
   "mimetype": "text/x-python",
   "name": "python",
   "nbconvert_exporter": "python",
   "pygments_lexer": "ipython2",
   "version": "2.7.12"
  },
  "varInspector": {
   "cols": {
    "lenName": 16,
    "lenType": 16,
    "lenVar": 40
   },
   "kernels_config": {
    "python": {
     "delete_cmd_postfix": "",
     "delete_cmd_prefix": "del ",
     "library": "var_list.py",
     "varRefreshCmd": "print(var_dic_list())"
    },
    "r": {
     "delete_cmd_postfix": ") ",
     "delete_cmd_prefix": "rm(",
     "library": "var_list.r",
     "varRefreshCmd": "cat(var_dic_list()) "
    }
   },
   "types_to_exclude": [
    "module",
    "function",
    "builtin_function_or_method",
    "instance",
    "_Feature"
   ],
   "window_display": false
  }
 },
 "nbformat": 4,
 "nbformat_minor": 0
}
