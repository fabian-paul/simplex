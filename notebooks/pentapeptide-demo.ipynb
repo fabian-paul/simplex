{
 "cells": [
  {
   "cell_type": "code",
   "execution_count": null,
   "metadata": {},
   "outputs": [],
   "source": [
    "import pyemma\n",
    "import simplex\n",
    "import mdshare\n",
    "import matplotlib.pyplot as plt\n",
    "%matplotlib inline"
   ]
  },
  {
   "cell_type": "code",
   "execution_count": null,
   "metadata": {},
   "outputs": [],
   "source": [
    "pentapeptide_pdb = mdshare.fetch('pentapeptide-impl-solv.pdb')\n",
    "pentapeptide_xtcs = mdshare.fetch('pentapeptide*xtc')"
   ]
  },
  {
   "cell_type": "code",
   "execution_count": null,
   "metadata": {},
   "outputs": [],
   "source": [
    "feat = pyemma.coordinates.featurizer(topfile=pentapeptide_pdb)\n",
    "feat.add_distances(feat.select_Heavy())\n",
    "source = pyemma.coordinates.source(pentapeptide_xtcs, features=feat)"
   ]
  },
  {
   "cell_type": "code",
   "execution_count": null,
   "metadata": {},
   "outputs": [],
   "source": [
    "tica = pyemma.coordinates.tica(source, lag=30)"
   ]
  },
  {
   "cell_type": "code",
   "execution_count": null,
   "metadata": {},
   "outputs": [],
   "source": [
    "plt.plot(tica.timescales[0:15], 'o')"
   ]
  },
  {
   "cell_type": "code",
   "execution_count": null,
   "metadata": {},
   "outputs": [],
   "source": [
    "ics = tica.get_output(dimensions=slice(0, 9))"
   ]
  },
  {
   "cell_type": "code",
   "execution_count": null,
   "metadata": {
    "scrolled": true
   },
   "outputs": [],
   "source": [
    "dims = range(2, 9)\n",
    "score = []\n",
    "for i in dims:\n",
    "    vertices = simplex.find_vertices_inner_simplex(ics, take_max_dims=i)\n",
    "    s = simplex.simplex_misfit(ics, vertices, extrema=False)\n",
    "    score.append(s)\n",
    "    print(s)"
   ]
  },
  {
   "cell_type": "code",
   "execution_count": null,
   "metadata": {},
   "outputs": [],
   "source": [
    "plt.plot(dims, score)\n",
    "plt.xlabel('# dimensions')\n",
    "plt.ylabel('score')"
   ]
  },
  {
   "cell_type": "code",
   "execution_count": null,
   "metadata": {},
   "outputs": [],
   "source": [
    "vertices = simplex.find_vertices_inner_simplex(ics, take_max_dims=6)\n",
    "mems = simplex.memberships(ics, vertices)"
   ]
  },
  {
   "cell_type": "code",
   "execution_count": null,
   "metadata": {},
   "outputs": [],
   "source": [
    "ctrajs = simplex.core_assignment_given_memberships(mems, f=0.75, d=0.1)"
   ]
  },
  {
   "cell_type": "code",
   "execution_count": null,
   "metadata": {},
   "outputs": [],
   "source": [
    "simplex.scatter_mem(memberships=mems, ctrajs=ctrajs, selection=range(0, 7))"
   ]
  },
  {
   "cell_type": "code",
   "execution_count": null,
   "metadata": {},
   "outputs": [],
   "source": [
    "ctrajs = simplex.filter_out_short_core_visits(ctrajs=ctrajs, cutoff=1)\n",
    "dtrajs = simplex.assign_transitions_to_cores(ctrajs, keep_ends_unassigned=False)\n",
    "#import msmtools\n",
    "#C = msmtools.estimation.count_matrix(dtraj=dtrajs, lag=1).toarray()\n",
    "#pyemma.plots.plot_network(C, arrow_label_format='%d')"
   ]
  },
  {
   "cell_type": "code",
   "execution_count": null,
   "metadata": {},
   "outputs": [],
   "source": [
    "its = pyemma.msm.its(dtrajs=dtrajs, lags=100)\n",
    "pyemma.plots.plot_implied_timescales(its, ylog=False)"
   ]
  },
  {
   "cell_type": "code",
   "execution_count": null,
   "metadata": {},
   "outputs": [],
   "source": [
    "#for dtraj in dtrajs:\n",
    "#    plt.figure()\n",
    "#    plt.plot(dtraj)"
   ]
  },
  {
   "cell_type": "code",
   "execution_count": null,
   "metadata": {},
   "outputs": [],
   "source": []
  }
 ],
 "metadata": {
  "kernelspec": {
   "display_name": "Python 3",
   "language": "python",
   "name": "python3"
  },
  "language_info": {
   "codemirror_mode": {
    "name": "ipython",
    "version": 3
   },
   "file_extension": ".py",
   "mimetype": "text/x-python",
   "name": "python",
   "nbconvert_exporter": "python",
   "pygments_lexer": "ipython3",
   "version": "3.6.3"
  }
 },
 "nbformat": 4,
 "nbformat_minor": 2
}
