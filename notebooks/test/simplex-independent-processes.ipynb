{
 "cells": [
  {
   "cell_type": "code",
   "execution_count": null,
   "metadata": {
    "collapsed": false
   },
   "outputs": [],
   "source": [
    "import numpy as np\n",
    "import sys\n",
    "sys.path.append('../..')\n",
    "import pyemma\n",
    "from simplex import simplex, product_tica\n",
    "import matplotlib.pyplot as plt\n",
    "import matplotlib.colors\n",
    "%matplotlib inline"
   ]
  },
  {
   "cell_type": "code",
   "execution_count": null,
   "metadata": {
    "collapsed": false
   },
   "outputs": [],
   "source": [
    "def rp(n=30000, s0=0, m=100):\n",
    "    T = np.array([[m, 1.],[1, m]])\n",
    "    T /= T.sum(axis=1)[:, np.newaxis]\n",
    "    T_cdf = T.cumsum(axis=1)\n",
    "    s = s0\n",
    "    ts = []\n",
    "    for _ in range(n):\n",
    "        ts.append(s)\n",
    "        s = np.searchsorted(T_cdf[s, :], np.random.rand())\n",
    "    return ts"
   ]
  },
  {
   "cell_type": "code",
   "execution_count": null,
   "metadata": {
    "collapsed": false
   },
   "outputs": [],
   "source": [
    "c = 0.5\n",
    "R = np.array([[c, -(1.-c**2)**0.5], [(1.-c**2)**0.5,  c]])"
   ]
  },
  {
   "cell_type": "code",
   "execution_count": null,
   "metadata": {
    "collapsed": false
   },
   "outputs": [],
   "source": [
    "ts_x = rp()\n",
    "ts_y = rp()\n",
    "ts_x += np.random.randn(len(ts_x))*.1\n",
    "ts_y += np.random.randn(len(ts_y))*.1"
   ]
  },
  {
   "cell_type": "markdown",
   "metadata": {},
   "source": [
    "## no products"
   ]
  },
  {
   "cell_type": "code",
   "execution_count": null,
   "metadata": {
    "collapsed": false
   },
   "outputs": [],
   "source": [
    "ts_no_prod =  np.vstack((ts_x, ts_y)).T.dot(R)"
   ]
  },
  {
   "cell_type": "code",
   "execution_count": null,
   "metadata": {
    "collapsed": false
   },
   "outputs": [],
   "source": [
    "plt.hist2d(ts_no_prod[:,0], ts_no_prod[:,1], bins=100, norm=matplotlib.colors.LogNorm());"
   ]
  },
  {
   "cell_type": "code",
   "execution_count": null,
   "metadata": {
    "collapsed": false
   },
   "outputs": [],
   "source": [
    "tica_no_prod = pyemma.coordinates.tica(data = ts_no_prod, lag=5)\n",
    "vertices_no_prod = simplex.find_vertices_inner_simplex(tica_no_prod.get_output())"
   ]
  },
  {
   "cell_type": "code",
   "execution_count": null,
   "metadata": {
    "collapsed": false
   },
   "outputs": [],
   "source": [
    "tica_no_prod.dimension()"
   ]
  },
  {
   "cell_type": "code",
   "execution_count": null,
   "metadata": {
    "collapsed": true
   },
   "outputs": [],
   "source": [
    "tics_no_prod = np.concatenate(tica_no_prod.get_output())"
   ]
  },
  {
   "cell_type": "code",
   "execution_count": null,
   "metadata": {
    "collapsed": false
   },
   "outputs": [],
   "source": [
    "plt.hist2d(tics_no_prod[:,0], tics_no_prod[:,1], bins=100, norm=matplotlib.colors.LogNorm());"
   ]
  },
  {
   "cell_type": "code",
   "execution_count": null,
   "metadata": {
    "collapsed": false
   },
   "outputs": [],
   "source": [
    "P, o = simplex.splash_corner_projection(vertices_no_prod, center=2)\n",
    "proj = (tics_no_prod-o).dot(P)\n",
    "proj_vertices = (vertices_no_prod-o).dot(P)\n",
    "plt.hist2d(proj[:,0], proj[:,1], bins=100, norm=matplotlib.colors.LogNorm());\n",
    "plt.scatter(proj_vertices[:,0], proj_vertices[:,1], c='r', s=80)"
   ]
  },
  {
   "cell_type": "markdown",
   "metadata": {},
   "source": [
    "## using products"
   ]
  },
  {
   "cell_type": "code",
   "execution_count": null,
   "metadata": {
    "collapsed": false
   },
   "outputs": [],
   "source": [
    "tica_1st_level, tica_2nd_level = product_tica.product_tica(ts_no_prod, lag=5, return_stage_1=True, take_max_dim=10)\n",
    "vertices_2nd_level = simplex.find_vertices_inner_simplex(tica_2nd_level)\n",
    "tics_2nd_level = np.concatenate(tica_2nd_level.get_output())"
   ]
  },
  {
   "cell_type": "code",
   "execution_count": null,
   "metadata": {
    "collapsed": false
   },
   "outputs": [],
   "source": [
    "tica_1st_level.dimension()"
   ]
  },
  {
   "cell_type": "code",
   "execution_count": null,
   "metadata": {
    "collapsed": false
   },
   "outputs": [],
   "source": [
    "tica_2nd_level.dimension()"
   ]
  },
  {
   "cell_type": "code",
   "execution_count": null,
   "metadata": {
    "collapsed": false
   },
   "outputs": [],
   "source": [
    "tica_2nd_level.eigenvalues"
   ]
  },
  {
   "cell_type": "code",
   "execution_count": null,
   "metadata": {
    "collapsed": false
   },
   "outputs": [],
   "source": [
    "P, o = simplex.splash_corner_projection(vertices_2nd_level, center=2)\n",
    "proj = (tics_2nd_level-o).dot(P)\n",
    "proj_vertices = (vertices_2nd_level-o).dot(P)\n",
    "plt.hist2d(proj[:,0], proj[:,1], bins=100, norm=matplotlib.colors.LogNorm());\n",
    "plt.scatter(proj_vertices[:,0], proj_vertices[:,1], c='r', s=80)"
   ]
  },
  {
   "cell_type": "code",
   "execution_count": null,
   "metadata": {
    "collapsed": false
   },
   "outputs": [],
   "source": [
    "#%matplotlib notebook\n",
    "from mpl_toolkits.mplot3d import Axes3D\n",
    "fig = plt.figure()\n",
    "ax = fig.add_subplot(111, projection='3d')\n",
    "s = 10\n",
    "ax.scatter3D(tics_2nd_level[::s, 0], tics_2nd_level[::s, 1], tics_2nd_level[::s, 2])"
   ]
  },
  {
   "cell_type": "code",
   "execution_count": null,
   "metadata": {
    "collapsed": true
   },
   "outputs": [],
   "source": [
    ""
   ]
  }
 ],
 "metadata": {
  "anaconda-cloud": {},
  "kernelspec": {
   "display_name": "Python [default]",
   "language": "python",
   "name": "python2"
  },
  "language_info": {
   "codemirror_mode": {
    "name": "ipython",
    "version": 2.0
   },
   "file_extension": ".py",
   "mimetype": "text/x-python",
   "name": "python",
   "nbconvert_exporter": "python",
   "pygments_lexer": "ipython2",
   "version": "2.7.12"
  }
 },
 "nbformat": 4,
 "nbformat_minor": 0
}