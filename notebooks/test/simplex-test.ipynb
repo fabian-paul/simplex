{
 "cells": [
  {
   "cell_type": "code",
   "execution_count": null,
   "metadata": {
    "collapsed": true
   },
   "outputs": [],
   "source": [
    "import sys\n",
    "sys.path.append('../..')"
   ]
  },
  {
   "cell_type": "code",
   "execution_count": null,
   "metadata": {},
   "outputs": [],
   "source": [
    "import numpy as np\n",
    "import scipy as sp\n",
    "import scipy.spatial\n",
    "import matplotlib.pyplot as plt\n",
    "from mpl_toolkits.mplot3d import Axes3D\n",
    "from simplex import simplex\n",
    "%matplotlib inline"
   ]
  },
  {
   "cell_type": "code",
   "execution_count": null,
   "metadata": {
    "collapsed": true
   },
   "outputs": [],
   "source": [
    "def _in_plane(supports, data):\n",
    "    assert supports.shape[0]==3\n",
    "    o, w = simplex._othonormalize(supports)\n",
    "    return (data-o).dot(w.T)\n",
    "\n",
    "def scatter_in_plane(supports, data, **kwargs):\n",
    "    tmp = _in_plane(supports, data)\n",
    "    plt.scatter(tmp[:,0], tmp[:,1], **kwargs)"
   ]
  },
  {
   "cell_type": "code",
   "execution_count": null,
   "metadata": {},
   "outputs": [],
   "source": [
    "dim = 3\n",
    "N_pts = 10000\n",
    "vol = 0\n",
    "for _ in range(100): # generate vertices of random and non-degenerate simplex\n",
    "    trial_vertices = np.random.rand(dim+1, dim)\n",
    "    trial_vol = np.abs(np.linalg.det(trial_vertices[1:,:] - trial_vertices[0, :]))\n",
    "    if trial_vol > vol:\n",
    "        vol = trial_vol\n",
    "        real_vertices = trial_vertices\n",
    "    \n",
    "X = np.random.rand(N_pts, dim+1)\n",
    "X = X / X.sum(axis=1)[:, np.newaxis]\n",
    "X = X.dot(real_vertices)\n",
    "\n",
    "X = np.concatenate((X, real_vertices))\n",
    "\n",
    "vertices, centers = simplex.find_vertices_inner_simplex(X, return_means=True)\n",
    "\n",
    "scatter_in_plane(real_vertices[0:3, :], X)\n",
    "scatter_in_plane(real_vertices[0:3, :], real_vertices, c=['r','g','y','w'], s=40)\n",
    "#scatter_in_plane(real_vertices[0:3, :], centers, c=['r','g','y','w'], marker='d', s=40)\n",
    "if dim>2:\n",
    "    plt.figure()\n",
    "    scatter_in_plane(real_vertices[1:4, :], X)\n",
    "    scatter_in_plane(real_vertices[1:4, :], real_vertices, c=['r','g','y','w'], s=40)\n",
    "    #scatter_in_plane(real_vertices[1:4, :], centers,  c=['r','g','y','w'], marker='d', s=40)\n",
    "\n",
    "\n",
    "triu_indices = np.triu_indices(dim+1, k=1)\n",
    "ref_d = sp.spatial.distance.squareform(sp.spatial.distance.pdist(real_vertices))\n",
    "res_d = sp.spatial.distance.squareform(sp.spatial.distance.pdist(vertices))\n",
    "#print max(np.abs(np.sort(res_d[triu_indices]) - np.sort(ref_d[triu_indices])))\n",
    "assert np.allclose(sorted(res_d[triu_indices]), sorted(ref_d[triu_indices]))\n"
   ]
  },
  {
   "cell_type": "code",
   "execution_count": null,
   "metadata": {},
   "outputs": [],
   "source": [
    "if dim>2:\n",
    "    fig = plt.figure()\n",
    "    ax = fig.add_subplot(111, projection='3d')\n",
    "    ax.scatter(X[:, 0], X[:, 1], X[:, 2])\n",
    "    ax.scatter(vertices[:, 0], vertices[:, 1], vertices[:, 2],  c=['r','g','y','w'])"
   ]
  },
  {
   "cell_type": "code",
   "execution_count": null,
   "metadata": {},
   "outputs": [],
   "source": [
    "dtraj = simplex.core_assignments([X], vertices, f=0.5)[0]\n",
    "scatter_in_plane(real_vertices[0:3, :], X, c=dtraj)\n",
    "if dim > 2:\n",
    "    plt.figure()\n",
    "    scatter_in_plane(real_vertices[1:4, :], X, c=dtraj)"
   ]
  },
  {
   "cell_type": "code",
   "execution_count": null,
   "metadata": {},
   "outputs": [],
   "source": [
    "d0 = np.linalg.norm(vertices, axis=1)\n",
    "assert np.all(d0[0] <= d0[1:])\n",
    "N = vertices.shape[0]\n",
    "for i in range(1,N):\n",
    "    assert np.all(abs(vertices[i, i-1]) >= np.abs(vertices[i+1:, i-1]))"
   ]
  },
  {
   "cell_type": "code",
   "execution_count": null,
   "metadata": {},
   "outputs": [],
   "source": [
    "P,o = simplex.splash_corner_projection(vertices)\n",
    "Y = (X-o).dot(P)\n",
    "core = (dtraj>=0)\n",
    "plt.scatter(Y[core, 0], Y[core, 1], c=dtraj[core])\n",
    "V = (vertices-o).dot(P)\n",
    "#plt.scatter(V[:, 0], V[:, 1], c='r', s=50)\n",
    "# the Triforce?"
   ]
  },
  {
   "cell_type": "code",
   "execution_count": null,
   "metadata": {
    "collapsed": true
   },
   "outputs": [],
   "source": []
  },
  {
   "cell_type": "code",
   "execution_count": null,
   "metadata": {
    "collapsed": true
   },
   "outputs": [],
   "source": []
  }
 ],
 "metadata": {
  "anaconda-cloud": {},
  "kernelspec": {
   "display_name": "py35_mar17",
   "language": "python",
   "name": "py35_mar17"
  },
  "language_info": {
   "codemirror_mode": {
    "name": "ipython",
    "version": 3
   },
   "file_extension": ".py",
   "mimetype": "text/x-python",
   "name": "python",
   "nbconvert_exporter": "python",
   "pygments_lexer": "ipython3",
   "version": "3.5.1"
  },
  "varInspector": {
   "cols": {
    "lenName": 16,
    "lenType": 16,
    "lenVar": 40
   },
   "kernels_config": {
    "python": {
     "delete_cmd_postfix": "",
     "delete_cmd_prefix": "del ",
     "library": "var_list.py",
     "varRefreshCmd": "print(var_dic_list())"
    },
    "r": {
     "delete_cmd_postfix": ") ",
     "delete_cmd_prefix": "rm(",
     "library": "var_list.r",
     "varRefreshCmd": "cat(var_dic_list()) "
    }
   },
   "types_to_exclude": [
    "module",
    "function",
    "builtin_function_or_method",
    "instance",
    "_Feature"
   ],
   "window_display": false
  }
 },
 "nbformat": 4,
 "nbformat_minor": 1
}
