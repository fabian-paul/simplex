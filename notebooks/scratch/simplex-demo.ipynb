{
 "cells": [
  {
   "cell_type": "code",
   "execution_count": 1,
   "metadata": {
    "collapsed": false
   },
   "outputs": [],
   "source": [
    "import numpy as np\n",
    "import pyemma\n",
    "import projX\n",
    "import sys\n",
    "sys.path.append('../..')\n",
    "from simplex import simplex\n",
    "import matplotlib.pyplot as plt\n",
    "%matplotlib notebook"
   ]
  },
  {
   "cell_type": "code",
   "execution_count": null,
   "metadata": {
    "collapsed": true
   },
   "outputs": [],
   "source": [
    "trajfile = 'data/c-alpha_centered.stride.100.xtc'\n",
    "top = 'data/bpti-c-alpha_centered.pdb'"
   ]
  },
  {
   "cell_type": "code",
   "execution_count": null,
   "metadata": {
    "collapsed": false
   },
   "outputs": [],
   "source": [
    "feat = pyemma.coordinates.featurizer(top)\n",
    "pairs = feat.pairs(range(feat.topology.n_atoms)[::2])\n",
    "feat.add_distances(pairs)\n",
    "src  = pyemma.coordinates.source(trajfile, features=feat)\n",
    "tica = pyemma.coordinates.tica(src, lag=100, dim=5)\n",
    "Y = tica.get_output()[0]"
   ]
  },
  {
   "cell_type": "code",
   "execution_count": null,
   "metadata": {
    "collapsed": false
   },
   "outputs": [],
   "source": [
    "vertices, means = simplex.find_vertices_inner_simplex(Y, return_means=True)\n",
    "P, o = simplex.splash_corner_projection(vertices, center=0)\n",
    "np.save('data/Z.npy', Z)"
   ]
  },
  {
   "cell_type": "code",
   "execution_count": null,
   "metadata": {
    "collapsed": false
   },
   "outputs": [],
   "source": [
    "ax, fig, iwd, sample, geom = projX.visualize_FES(trajfile, top, 'data/Z.npy', \n",
    "                                          )\n",
    "iwd"
   ]
  },
  {
   "cell_type": "code",
   "execution_count": null,
   "metadata": {
    "collapsed": false
   },
   "outputs": [],
   "source": [
    "pyemma.plots.plot_free_energy(Z[:, 0], Z[:, 1])\n",
    "V = (vertices-o).dot(P)\n",
    "plt.scatter(V[:, 0], V[:, 1], label='vertices')\n",
    "M = (means-o).dot(P)\n",
    "plt.scatter(M[:, 0], M[:, 1], c='r', label='core means')\n",
    "plt.legend()"
   ]
  },
  {
   "cell_type": "code",
   "execution_count": null,
   "metadata": {
    "collapsed": true
   },
   "outputs": [],
   "source": [
    "dtrajs = simplex.core_assignments(Y, vertices, f=0.5)"
   ]
  },
  {
   "cell_type": "code",
   "execution_count": null,
   "metadata": {
    "collapsed": false
   },
   "outputs": [],
   "source": [
    "C, s = simplex.milestoning_count_matrix(dtrajs, lag=5, return_scrapped=True)\n",
    "s, C"
   ]
  },
  {
   "cell_type": "code",
   "execution_count": null,
   "metadata": {
    "collapsed": false
   },
   "outputs": [],
   "source": [
    "import msmtools\n",
    "msmtools.estimation.largest_connected_set(C)"
   ]
  },
  {
   "cell_type": "code",
   "execution_count": null,
   "metadata": {
    "collapsed": true
   },
   "outputs": [],
   "source": [
    ""
   ]
  }
 ],
 "metadata": {
  "anaconda-cloud": {},
  "kernelspec": {
   "display_name": "Python [default]",
   "language": "python",
   "name": "python2"
  },
  "language_info": {
   "codemirror_mode": {
    "name": "ipython",
    "version": 2.0
   },
   "file_extension": ".py",
   "mimetype": "text/x-python",
   "name": "python",
   "nbconvert_exporter": "python",
   "pygments_lexer": "ipython2",
   "version": "2.7.11"
  }
 },
 "nbformat": 4,
 "nbformat_minor": 0
}