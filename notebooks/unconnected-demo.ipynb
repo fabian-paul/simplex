{
 "cells": [
  {
   "cell_type": "code",
   "execution_count": null,
   "metadata": {
    "collapsed": false
   },
   "outputs": [],
   "source": [
    "from __future__ import print_function\n",
    "import sys\n",
    "sys.path.append('..')\n",
    "import numpy as np\n",
    "import pyemma\n",
    "import pyemma.datasets\n",
    "import simplex\n",
    "import matplotlib.pyplot as plt\n",
    "%matplotlib inline"
   ]
  },
  {
   "cell_type": "code",
   "execution_count": null,
   "metadata": {
    "collapsed": false
   },
   "outputs": [],
   "source": [
    "np.random.seed(7778)"
   ]
  },
  {
   "cell_type": "code",
   "execution_count": null,
   "metadata": {
    "collapsed": false
   },
   "outputs": [],
   "source": [
    "data = pyemma.datasets.load_2well_discrete()\n",
    "plt.plot(-np.log(data.msm.stationary_distribution))\n",
    "plt.ylabel('energy')\n",
    "plt.xlabel('x')"
   ]
  },
  {
   "cell_type": "code",
   "execution_count": null,
   "metadata": {
    "collapsed": false
   },
   "outputs": [],
   "source": [
    "# simulating non-connected data\n",
    "# In a real application, the data could be completely disconnected if we start multiple simulations\n",
    "# form different intial conditons.\n",
    "trajs1 = [ data.generate_traj(10000, start=30, stop=48).astype(float) for _ in range(3) ]\n",
    "trajs2 = [ data.generate_traj(10000, start=70, stop=52).astype(float) for _ in range(2) ]\n",
    "trajs = trajs1 + trajs2\n",
    "trajs = [ t + 3*np.random.randn(len(t)) for t in trajs ] # add some noise to model a second,\n",
    "# non-metastable dimension that is not completely orthogonal to the x-coordinate of the double-well"
   ]
  },
  {
   "cell_type": "code",
   "execution_count": null,
   "metadata": {
    "collapsed": false
   },
   "outputs": [],
   "source": [
    "plt.hist(np.concatenate(trajs), bins=40);\n",
    "plt.ylabel('counts')\n",
    "plt.xlabel('x')"
   ]
  },
  {
   "cell_type": "code",
   "execution_count": null,
   "metadata": {
    "collapsed": false
   },
   "outputs": [],
   "source": [
    "# select a very bad clustering \n",
    "dtrajs = pyemma.coordinates.assign_to_centers(data=trajs, centers=np.array([[40.0],[70.0]]))"
   ]
  },
  {
   "cell_type": "code",
   "execution_count": null,
   "metadata": {
    "collapsed": false
   },
   "outputs": [],
   "source": [
    "# go ahead and compute the MSM\n",
    "its = pyemma.msm.its(dtrajs)\n",
    "pyemma.plots.plot_implied_timescales(its)"
   ]
  },
  {
   "cell_type": "code",
   "execution_count": null,
   "metadata": {
    "collapsed": false
   },
   "outputs": [],
   "source": [
    "# use some default algorithm\n",
    "kmeans = pyemma.coordinates.cluster_kmeans(data=trajs, k=101)\n",
    "dtrajs = kmeans.dtrajs"
   ]
  },
  {
   "cell_type": "code",
   "execution_count": null,
   "metadata": {
    "collapsed": false
   },
   "outputs": [],
   "source": [
    "# also the default MSM is typically fooled\n",
    "its = pyemma.msm.its(dtrajs)\n",
    "pyemma.plots.plot_implied_timescales(its)"
   ]
  },
  {
   "cell_type": "code",
   "execution_count": null,
   "metadata": {
    "collapsed": false
   },
   "outputs": [],
   "source": [
    "for d in dtrajs:\n",
    "    plt.plot(kmeans.clustercenters[d])"
   ]
  },
  {
   "cell_type": "code",
   "execution_count": null,
   "metadata": {
    "collapsed": true
   },
   "outputs": [],
   "source": [
    "# go to TICA space (in 1-D this is only a formal operation)\n",
    "tics = pyemma.coordinates.tica(data=trajs).get_output()"
   ]
  },
  {
   "cell_type": "code",
   "execution_count": null,
   "metadata": {
    "collapsed": false
   },
   "outputs": [],
   "source": [
    "# build core-set MSM\n",
    "# a) find vertices\n",
    "vertices = simplex.find_vertices_inner_simplex(tics)"
   ]
  },
  {
   "cell_type": "code",
   "execution_count": null,
   "metadata": {
    "collapsed": false
   },
   "outputs": [],
   "source": [
    "# b) comute core assignments\n",
    "ctrajs = simplex.core_assignments(tics, vertices=vertices, f=0.55)"
   ]
  },
  {
   "cell_type": "code",
   "execution_count": null,
   "metadata": {
    "collapsed": true
   },
   "outputs": [],
   "source": [
    "# TODO: plot cores, plot memberships!"
   ]
  },
  {
   "cell_type": "code",
   "execution_count": null,
   "metadata": {
    "collapsed": false
   },
   "outputs": [],
   "source": [
    "# plot core-to-core trajectories\n",
    "for c in ctrajs:\n",
    "    plt.plot(np.where(c>=0, c, np.nan))\n",
    "plt.ylim((-0.1,1.1))\n",
    "# sometimes there are some recorssing events left, despite the introduction of cores "
   ]
  },
  {
   "cell_type": "code",
   "execution_count": null,
   "metadata": {
    "collapsed": false
   },
   "outputs": [],
   "source": [
    "# c) We can filter these out by relabeling very short visits to cores as 'unassigned'.\n",
    "ctrajs_metastable = simplex.filter_out_short_core_visits(ctrajs, cutoff=1) # usually a small life time cutoff is enough\n",
    "for c in ctrajs_metastable:\n",
    "    plt.plot(np.where(c>=0, c, np.nan))\n",
    "plt.ylim((-0.1,1.1))"
   ]
  },
  {
   "cell_type": "code",
   "execution_count": null,
   "metadata": {
    "collapsed": false
   },
   "outputs": [],
   "source": [
    "# d) now that we are more or less sure about the discretization quality, compute count matrices.\n",
    "simplex.milestoning_count_matrix(ctrajs_metastable, lag=1)"
   ]
  },
  {
   "cell_type": "code",
   "execution_count": null,
   "metadata": {
    "collapsed": true
   },
   "outputs": [],
   "source": [
    "# TODO: make example where we can estimate a connected MSM"
   ]
  },
  {
   "cell_type": "code",
   "execution_count": null,
   "metadata": {
    "collapsed": false
   },
   "outputs": [],
   "source": [
    "ltd = simplex.life_time_distributions(ctrajs_metastable)\n",
    "for core in ltd:\n",
    "    if core >= 0:\n",
    "        print(core, ltd[core])"
   ]
  },
  {
   "cell_type": "code",
   "execution_count": null,
   "metadata": {
    "collapsed": true
   },
   "outputs": [],
   "source": [
    "# basic hypothesis: there is always some dimension along which the dyanamics are irreversible and which is not\n",
    "# well-discretized"
   ]
  },
  {
   "cell_type": "code",
   "execution_count": null,
   "metadata": {
    "collapsed": true
   },
   "outputs": [],
   "source": []
  }
 ],
 "metadata": {
  "anaconda-cloud": {},
  "kernelspec": {
   "display_name": "Python [default]",
   "language": "python",
   "name": "python2"
  },
  "language_info": {
   "codemirror_mode": {
    "name": "ipython",
    "version": 2
   },
   "file_extension": ".py",
   "mimetype": "text/x-python",
   "name": "python",
   "nbconvert_exporter": "python",
   "pygments_lexer": "ipython2",
   "version": "2.7.12"
  },
  "varInspector": {
   "cols": {
    "lenName": 16,
    "lenType": 16,
    "lenVar": 40
   },
   "kernels_config": {
    "python": {
     "delete_cmd_postfix": "",
     "delete_cmd_prefix": "del ",
     "library": "var_list.py",
     "varRefreshCmd": "print(var_dic_list())"
    },
    "r": {
     "delete_cmd_postfix": ") ",
     "delete_cmd_prefix": "rm(",
     "library": "var_list.r",
     "varRefreshCmd": "cat(var_dic_list()) "
    }
   },
   "types_to_exclude": [
    "module",
    "function",
    "builtin_function_or_method",
    "instance",
    "_Feature"
   ],
   "window_display": false
  }
 },
 "nbformat": 4,
 "nbformat_minor": 1
}
